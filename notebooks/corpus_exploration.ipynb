{
 "cells": [
  {
   "cell_type": "markdown",
   "id": "a604b386",
   "metadata": {},
   "source": [
    "# Corpus Exploration\n",
    "\n",
    "Interactive exploration of the Corpus class for development and testing.\n",
    "Use this notebook to experiment with the ENEX parsing functionality."
   ]
  },
  {
   "cell_type": "code",
   "execution_count": null,
   "id": "3bac20a4",
   "metadata": {},
   "outputs": [],
   "source": [
    "import sys\n",
    "from pathlib import Path\n",
    "\n",
    "sys.path.insert(0, str(Path.cwd().parent / \"src\"))\n",
    "\n",
    "import enote"
   ]
  },
  {
   "cell_type": "code",
   "execution_count": null,
   "id": "061ee6ef",
   "metadata": {},
   "outputs": [],
   "source": [
    "# Explore the Corpus class\n",
    "corpus = enote.Corpus()\n",
    "print(\"Corpus attributes:\")\n",
    "print(dir(corpus))"
   ]
  },
  {
   "cell_type": "code",
   "execution_count": null,
   "id": "0c30b941",
   "metadata": {},
   "outputs": [],
   "source": [
    "# Look at the documentation\n",
    "help(corpus.load)"
   ]
  },
  {
   "cell_type": "code",
   "execution_count": null,
   "id": "0062302d",
   "metadata": {},
   "outputs": [],
   "source": [
    "# Load some notes and explore\n",
    "corpus.load(max_notes=2)\n",
    "print(f\"Loaded {len(corpus.notes)} notes\")"
   ]
  },
  {
   "cell_type": "code",
   "execution_count": null,
   "id": "85da4aea",
   "metadata": {},
   "outputs": [],
   "source": [
    "# Explore the notes structure\n",
    "for note_id, note_data in corpus.notes.items():\n",
    "    print(f\"\\n=== {note_id} ===\")\n",
    "    print(f\"Title: {note_data['title']}\")\n",
    "    print(f\"Tags: {note_data['tags']}\")\n",
    "    print(f\"Keys: {list(note_data.keys())}\")\n",
    "    break  # Just show first one"
   ]
  },
  {
   "cell_type": "code",
   "execution_count": null,
   "id": "d2adb674",
   "metadata": {},
   "outputs": [],
   "source": [
    "# Try some operations\n",
    "first_note = list(corpus.notes.values())[0]\n",
    "print(\"First note structure:\")\n",
    "for key, value in first_note.items():\n",
    "    print(f\"{key}: {type(value)} - {str(value)[:50]}...\")"
   ]
  },
  {
   "cell_type": "code",
   "execution_count": null,
   "id": "91c1636e",
   "metadata": {},
   "outputs": [],
   "source": [
    "# Test the new cleaned_text functionality\n",
    "for note_id, note_data in corpus.notes.items():\n",
    "    original = note_data.get('content', '')\n",
    "    cleaned = note_data.get('cleaned_text', '')\n",
    "    \n",
    "    print(f\"\\n=== {note_id}: {note_data['title']} ===\")\n",
    "    print(f\"Original length: {len(original)} chars\")\n",
    "    print(f\"Cleaned length: {len(cleaned)} chars\")\n",
    "    \n",
    "    if len(original) > 0:\n",
    "        reduction = ((len(original) - len(cleaned)) / len(original)) * 100\n",
    "        print(f\"Size reduction: {reduction:.1f}%\")\n",
    "    \n",
    "    print(f\"\\nCleaned text preview:\")\n",
    "    print(cleaned[:200] + \"...\" if len(cleaned) > 200 else cleaned)\n",
    "    \n",
    "    break  # Just show first one"
   ]
  }
 ],
 "metadata": {
  "language_info": {
   "name": "python"
  }
 },
 "nbformat": 4,
 "nbformat_minor": 5
}
