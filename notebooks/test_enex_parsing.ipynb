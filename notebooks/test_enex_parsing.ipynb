{
 "cells": [
  {
   "cell_type": "markdown",
   "id": "6d7fcb93",
   "metadata": {},
   "source": [
    "# Test ENEX Parsing\n",
    "\n",
    "Quick test to see if our Corpus class can read the real Evernote backup data."
   ]
  },
  {
   "cell_type": "code",
   "execution_count": 2,
   "id": "56d38fda",
   "metadata": {},
   "outputs": [],
   "source": [
    "import sys\n",
    "from pathlib import Path\n",
    "\n",
    "# Add src to path so we can import enote\n",
    "src_path = Path.cwd().parent / \"src\"\n",
    "sys.path.insert(0, str(src_path))\n",
    "\n",
    "import enote"
   ]
  },
  {
   "cell_type": "code",
   "execution_count": 3,
   "id": "00b8cd7c",
   "metadata": {},
   "outputs": [
    {
     "name": "stdout",
     "output_type": "stream",
     "text": [
      "Reading 3 notes from ENEX files...\n",
      "Successfully read 3 notes\n",
      "\n",
      "Note ID: note_000000\n",
      "Title: Band Practice checklist\n",
      "Tags: ['Checklists']\n",
      "Body preview: \n",
      "      <?xml version=\"1.0\" encoding=\"UTF-8\" standalone=\"no\"?>\n",
      "<!DOCTYPE en-note SYSTEM \"http://xml.evernote.com/pub/enml2.dtd\"><en-note><div><a href=\"evernote:///view/54151545/s314/53a6ba62-4bbc-49e8-...\n",
      "--------------------------------------------------\n"
     ]
    }
   ],
   "source": [
    "# Create corpus with path to your ENEX backup\n",
    "corpus = enote.Corpus({\"enex_path\": \"~/tmp/evernote_backup\"})\n",
    "\n",
    "# Try to read just 3 notes to test\n",
    "print(\"Reading 3 notes from ENEX files...\")\n",
    "notes = corpus.get_all_notes(max_notes=3)\n",
    "\n",
    "print(f\"Successfully read {len(notes)} notes\")\n",
    "print()\n",
    "\n",
    "# Show the first note\n",
    "for note_id, note_data in notes.items():\n",
    "    print(f\"Note ID: {note_id}\")\n",
    "    print(f\"Title: {note_data['title']}\")\n",
    "    print(f\"Tags: {note_data['tags']}\")\n",
    "    print(f\"Body preview: {note_data['body'][:200]}...\")\n",
    "    print(\"-\" * 50)\n",
    "    break  # Just show the first one"
   ]
  },
  {
   "cell_type": "code",
   "execution_count": 4,
   "id": "20fe45e6",
   "metadata": {},
   "outputs": [
    {
     "name": "stdout",
     "output_type": "stream",
     "text": [
      "All notes summary:\n",
      "note_000000: 'Band Practice checklist' - Tags: ['Checklists']\n",
      "note_000001: 'Blue Orchid' - Tags: ['.Reference']\n",
      "note_000002: 'Choose a song for  Mitotic lunch Shakedowns?' - Tags: ['4__Projects', 'sd', 'sd_6']\n",
      "\n",
      "First note details:\n",
      "Created: 20131016T175947Z\n",
      "Updated: 20201118T193529Z\n",
      "Body length: 612 characters\n"
     ]
    }
   ],
   "source": [
    "# Let's look at all 3 notes briefly\n",
    "print(\"All notes summary:\")\n",
    "for note_id, note_data in notes.items():\n",
    "    print(f\"{note_id}: '{note_data['title']}' - Tags: {note_data['tags']}\")\n",
    "    \n",
    "print(f\"\\nFirst note details:\")\n",
    "first_note = list(notes.values())[0]\n",
    "print(f\"Created: {first_note['created']}\")\n",
    "print(f\"Updated: {first_note['updated']}\")\n",
    "print(f\"Body length: {len(first_note['body'])} characters\")"
   ]
  }
 ],
 "metadata": {
  "kernelspec": {
   "display_name": "VS_Code",
   "language": "python",
   "name": "python3"
  },
  "language_info": {
   "codemirror_mode": {
    "name": "ipython",
    "version": 3
   },
   "file_extension": ".py",
   "mimetype": "text/x-python",
   "name": "python",
   "nbconvert_exporter": "python",
   "pygments_lexer": "ipython3",
   "version": "3.13.5"
  }
 },
 "nbformat": 4,
 "nbformat_minor": 5
}
