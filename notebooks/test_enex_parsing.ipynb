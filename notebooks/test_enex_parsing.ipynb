{
 "cells": [
  {
   "cell_type": "markdown",
   "id": "6d7fcb93",
   "metadata": {},
   "source": [
    "# Test ENEX Corpus Extraction\n",
    "\n",
    "Quick test of our **read-only ENEX corpus extractor** using the simplified API from today's refactoring.\n",
    "\n",
    "This demonstrates:\n",
    "- Simplified `Corpus()` initialization (uses default ENEX path)\n",
    "- New `load()` method with member variable storage\n",
    "- Clean, focused read-only functionality"
   ]
  },
  {
   "cell_type": "code",
   "execution_count": null,
   "id": "56d38fda",
   "metadata": {},
   "outputs": [],
   "source": [
    "import sys\n",
    "from pathlib import Path\n",
    "\n",
    "# Add src to path so we can import enote\n",
    "src_path = Path.cwd().parent / \"src\"\n",
    "sys.path.insert(0, str(src_path))\n",
    "\n",
    "import enote"
   ]
  },
  {
   "cell_type": "code",
   "execution_count": null,
   "id": "287b4338",
   "metadata": {},
   "outputs": [],
   "source": [
    "# Show off today's improvements: DRY constants and clean API\n",
    "print(\"🎯 Today's API improvements:\")\n",
    "print(f\"Default ENEX path: {enote.DEFAULT_ENEX_PATH}\")\n",
    "print(f\"Corpus with default path: enote.Corpus()\")\n",
    "print(f\"Corpus with custom path: enote.Corpus({{'enex_path': '/custom/path'}})\")\n",
    "print()\n",
    "\n",
    "# Test the default path behavior\n",
    "corpus_default = enote.Corpus()\n",
    "corpus_explicit = enote.Corpus({\"enex_path\": enote.DEFAULT_ENEX_PATH})\n",
    "print(f\"Default path: {corpus_default.enex_path}\")\n",
    "print(f\"Explicit path: {corpus_explicit.enex_path}\")\n",
    "print(f\"Paths match: {corpus_default.enex_path == corpus_explicit.enex_path}\")\n",
    "print(\"-\" * 60)"
   ]
  },
  {
   "cell_type": "code",
   "execution_count": null,
   "id": "00b8cd7c",
   "metadata": {},
   "outputs": [],
   "source": [
    "# Create corpus using default ENEX path (much simpler now!)\n",
    "corpus = enote.Corpus()\n",
    "\n",
    "# Load 3 notes using new load method that stores notes in the corpus\n",
    "print(\"Loading 3 notes from ENEX files...\")\n",
    "corpus.load(max_notes=3)\n",
    "\n",
    "print(f\"Successfully loaded {len(corpus.notes)} notes into corpus\")"
   ]
  },
  {
   "cell_type": "code",
   "execution_count": null,
   "id": "20fe45e6",
   "metadata": {},
   "outputs": [],
   "source": [
    "# Let's look at all 3 notes briefly\n",
    "print(\"All notes summary:\")\n",
    "for note_id, note_data in corpus.notes.items():\n",
    "    print(f\"{note_id}: '{note_data['title']}' - Tags: {note_data['tags']}\")\n",
    "    \n",
    "print(f\"\\nFirst note details:\")\n",
    "first_note = list(corpus.notes.values())[0]\n",
    "print(f\"Created: {first_note['created']}\")\n",
    "print(f\"Updated: {first_note['updated']}\")\n",
    "print(f\"Body length: {len(first_note['body'])} characters\")"
   ]
  },
  {
   "cell_type": "markdown",
   "id": "262bc896",
   "metadata": {},
   "source": [
    "## ✅ Today's Refactoring Summary\n",
    "\n",
    "**Major improvements accomplished:**\n",
    "\n",
    "1. **Removed obsolete members**: Eliminated `self.credentials` and `self._client` - no more API wrapper confusion\n",
    "2. **DRY constants**: Created `enote.DEFAULT_ENEX_PATH` - no more hardcoded paths scattered everywhere  \n",
    "3. **Simplified API**: `Corpus()` with no args uses default path automatically\n",
    "4. **Member variable storage**: `read_notes()` → `load()` with `corpus.notes` for future extensibility\n",
    "5. **Scope reduction**: Removed `get_note(id)` and write operations - we're a file processor, not an API client\n",
    "6. **Test cleanup**: Removed redundant tests and obsolete write operation tests\n",
    "\n",
    "**Result**: Clean, focused ENEX corpus extraction utility ready for future enhancements (dataclasses, SQLite, etc.)! 🎉"
   ]
  }
 ],
 "metadata": {
  "kernelspec": {
   "display_name": "VS_Code",
   "language": "python",
   "name": "python3"
  },
  "language_info": {
   "codemirror_mode": {
    "name": "ipython",
    "version": 3
   },
   "file_extension": ".py",
   "mimetype": "text/x-python",
   "name": "python",
   "nbconvert_exporter": "python",
   "pygments_lexer": "ipython3",
   "version": "3.13.5"
  }
 },
 "nbformat": 4,
 "nbformat_minor": 5
}
