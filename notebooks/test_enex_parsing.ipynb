{
 "cells": [
  {
   "cell_type": "markdown",
   "id": "6d7fcb93",
   "metadata": {},
   "source": [
    "# Test ENEX Corpus Extraction\n",
    "\n",
    "Quick test of our **read-only ENEX corpus extractor** using the simplified API from today's refactoring.\n",
    "\n",
    "This demonstrates:\n",
    "- Simplified `Corpus()` initialization (uses default ENEX path)\n",
    "- New `read_notes()` method (renamed from `get_all_notes`)\n",
    "- Clean, focused read-only functionality"
   ]
  },
  {
   "cell_type": "code",
   "execution_count": 1,
   "id": "56d38fda",
   "metadata": {},
   "outputs": [],
   "source": [
    "import sys\n",
    "from pathlib import Path\n",
    "\n",
    "# Add src to path so we can import enote\n",
    "src_path = Path.cwd().parent / \"src\"\n",
    "sys.path.insert(0, str(src_path))\n",
    "\n",
    "import enote"
   ]
  },
  {
   "cell_type": "code",
   "execution_count": 3,
   "id": "287b4338",
   "metadata": {},
   "outputs": [
    {
     "name": "stdout",
     "output_type": "stream",
     "text": [
      "🎯 Today's API improvements:\n",
      "Default ENEX path: ~/tmp/evernote_backup\n",
      "Corpus with default path: enote.Corpus()\n",
      "Corpus with custom path: enote.Corpus({'enex_path': '/custom/path'})\n",
      "\n",
      "Default path: ~/tmp/evernote_backup\n",
      "Explicit path: ~/tmp/evernote_backup\n",
      "Paths match: True\n",
      "------------------------------------------------------------\n"
     ]
    }
   ],
   "source": [
    "# Show off today's improvements: DRY constants and clean API\n",
    "print(\"🎯 Today's API improvements:\")\n",
    "print(f\"Default ENEX path: {enote.DEFAULT_ENEX_PATH}\")\n",
    "print(f\"Corpus with default path: enote.Corpus()\")\n",
    "print(f\"Corpus with custom path: enote.Corpus({{'enex_path': '/custom/path'}})\")\n",
    "print()\n",
    "\n",
    "# Test the default path behavior\n",
    "corpus_default = enote.Corpus()\n",
    "corpus_explicit = enote.Corpus({\"enex_path\": enote.DEFAULT_ENEX_PATH})\n",
    "print(f\"Default path: {corpus_default.enex_path}\")\n",
    "print(f\"Explicit path: {corpus_explicit.enex_path}\")\n",
    "print(f\"Paths match: {corpus_default.enex_path == corpus_explicit.enex_path}\")\n",
    "print(\"-\" * 60)"
   ]
  },
  {
   "cell_type": "code",
   "execution_count": 4,
   "id": "00b8cd7c",
   "metadata": {},
   "outputs": [
    {
     "name": "stdout",
     "output_type": "stream",
     "text": [
      "Reading 3 notes from ENEX files...\n",
      "Successfully read 3 notes\n",
      "\n",
      "Note ID: note_000000\n",
      "Title: Band Practice checklist\n",
      "Tags: ['Checklists']\n",
      "Body preview: \n",
      "      <?xml version=\"1.0\" encoding=\"UTF-8\" standalone=\"no\"?>\n",
      "<!DOCTYPE en-note SYSTEM \"http://xml.evernote.com/pub/enml2.dtd\"><en-note><div><a href=\"evernote:///view/54151545/s314/53a6ba62-4bbc-49e8-...\n",
      "--------------------------------------------------\n"
     ]
    }
   ],
   "source": [
    "# Create corpus using default ENEX path (much simpler now!)\n",
    "corpus = enote.Corpus()\n",
    "\n",
    "# Try to read just 3 notes to test using new read_notes method\n",
    "print(\"Reading 3 notes from ENEX files...\")\n",
    "notes = corpus.read_notes(max_notes=3)\n",
    "\n",
    "print(f\"Successfully read {len(notes)} notes\")\n",
    "print()\n",
    "\n",
    "# Show the first note\n",
    "for note_id, note_data in notes.items():\n",
    "    print(f\"Note ID: {note_id}\")\n",
    "    print(f\"Title: {note_data['title']}\")\n",
    "    print(f\"Tags: {note_data['tags']}\")\n",
    "    print(f\"Body preview: {note_data['body'][:200]}...\")\n",
    "    print(\"-\" * 50)\n",
    "    break  # Just show the first one"
   ]
  },
  {
   "cell_type": "code",
   "execution_count": 5,
   "id": "20fe45e6",
   "metadata": {},
   "outputs": [
    {
     "name": "stdout",
     "output_type": "stream",
     "text": [
      "All notes summary:\n",
      "note_000000: 'Band Practice checklist' - Tags: ['Checklists']\n",
      "note_000001: 'Blue Orchid' - Tags: ['.Reference']\n",
      "note_000002: 'Choose a song for  Mitotic lunch Shakedowns?' - Tags: ['4__Projects', 'sd', 'sd_6']\n",
      "\n",
      "First note details:\n",
      "Created: 20131016T175947Z\n",
      "Updated: 20201118T193529Z\n",
      "Body length: 612 characters\n"
     ]
    }
   ],
   "source": [
    "# Let's look at all 3 notes briefly\n",
    "print(\"All notes summary:\")\n",
    "for note_id, note_data in notes.items():\n",
    "    print(f\"{note_id}: '{note_data['title']}' - Tags: {note_data['tags']}\")\n",
    "    \n",
    "print(f\"\\nFirst note details:\")\n",
    "first_note = list(notes.values())[0]\n",
    "print(f\"Created: {first_note['created']}\")\n",
    "print(f\"Updated: {first_note['updated']}\")\n",
    "print(f\"Body length: {len(first_note['body'])} characters\")"
   ]
  },
  {
   "cell_type": "markdown",
   "id": "262bc896",
   "metadata": {},
   "source": [
    "## ✅ Today's Refactoring Summary\n",
    "\n",
    "**Major improvements accomplished:**\n",
    "\n",
    "1. **Removed obsolete members**: Eliminated `self.credentials` and `self._client` - no more API wrapper confusion\n",
    "2. **DRY constants**: Created `enote.DEFAULT_ENEX_PATH` - no more hardcoded paths scattered everywhere  \n",
    "3. **Simplified API**: `Corpus()` with no args uses default path automatically\n",
    "4. **Cleaner methods**: `get_all_notes()` → `read_notes()` (honest naming)\n",
    "5. **Scope reduction**: Removed `get_note(id)` - we're not an API client, we're a file processor\n",
    "6. **Test cleanup**: Removed redundant tests and obsolete write operation tests\n",
    "\n",
    "**Result**: Clean, focused ENEX corpus extraction utility for GenAI applications! 🎉"
   ]
  }
 ],
 "metadata": {
  "kernelspec": {
   "display_name": "VS_Code",
   "language": "python",
   "name": "python3"
  },
  "language_info": {
   "codemirror_mode": {
    "name": "ipython",
    "version": 3
   },
   "file_extension": ".py",
   "mimetype": "text/x-python",
   "name": "python",
   "nbconvert_exporter": "python",
   "pygments_lexer": "ipython3",
   "version": "3.13.5"
  }
 },
 "nbformat": 4,
 "nbformat_minor": 5
}
